{
 "cells": [
  {
   "cell_type": "markdown",
   "metadata": {},
   "source": [
    "Is gender independent of education level? A random sample of 395 people were\n",
    "surveyed and each person was asked to report the highest education level they\n",
    "obtained. The data that resulted from the survey is summarized in the following table:\n",
    "High School Bachelors Masters Ph.d. Total\n",
    "Female 60 54 46 41 201\n",
    "Male 40 44 53 57 194\n",
    "Total 100 98 99 98 395\n",
    "Question: Are gender and education level dependent at 5% level of significance? In\n",
    "other words, given the data collected above, is there a relationship between the gender\n",
    "of an individual and the level of education that they have obtained?"
   ]
  },
  {
   "cell_type": "code",
   "execution_count": null,
   "metadata": {},
   "outputs": [],
   "source": [
    "Chi-Square Test Statistic can be followed\n",
    "\n",
    "Hypothesis\n",
    "H0 Gendre and education level are independent\n",
    "H1 Gendre and education are dependent\n",
    "\n",
    "        High School Bachelors Masters Ph.d. Total\n",
    "Female   60 54 46 41                          201\n",
    "Male    40 44 53 57                           194\n",
    " Total 100 98 99 98                           395\n",
    "\n",
    "chi-square=[(O-E)^2]/E\n",
    "\n",
    "\n",
    "    HighSchool Bachelors Masters Ph.d. Total\n",
    "Female O:  60     54      46       41    201\n",
    "       E:  50.89  49.87   50.38   49.87 \n",
    "Male   O: 40      44      53       57    194\n",
    "       E: 49.11  48.13   48.62    48.13 \n",
    "    \n",
    "Chi-Sq stat = 8.0\n",
    "\n",
    "For df=3, Chi-square critcal= 7.81\n",
    "\n",
    "Chi-sq stat > Chi-sq critical: therefore we reject the null hypothesis.\n",
    "So Education depends on Gendre"
   ]
  }
 ],
 "metadata": {
  "kernelspec": {
   "display_name": "Python 3",
   "language": "python",
   "name": "python3"
  },
  "language_info": {
   "codemirror_mode": {
    "name": "ipython",
    "version": 3
   },
   "file_extension": ".py",
   "mimetype": "text/x-python",
   "name": "python",
   "nbconvert_exporter": "python",
   "pygments_lexer": "ipython3",
   "version": "3.6.4"
  }
 },
 "nbformat": 4,
 "nbformat_minor": 2
}
